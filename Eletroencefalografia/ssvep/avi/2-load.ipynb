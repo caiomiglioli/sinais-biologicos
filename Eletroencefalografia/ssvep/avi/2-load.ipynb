{
 "cells": [
  {
   "attachments": {},
   "cell_type": "markdown",
   "metadata": {},
   "source": [
    "# Load\n",
    "\n",
    "### Tarefas:\n",
    "\n",
    "- Padronizar os dados de todos os 4 participantes dos dados *single-target* e salvar de forma adequada para utilização nos próximos notebooks.\n",
    "- Realizar o mesmo estudo para os dados *multi-target*"
   ]
  },
  {
   "cell_type": "code",
   "execution_count": 1,
   "metadata": {},
   "outputs": [],
   "source": [
    "# imports\n",
    "\n",
    "from scipy.io import loadmat\n",
    "import numpy as np"
   ]
  },
  {
   "attachments": {},
   "cell_type": "markdown",
   "metadata": {},
   "source": [
    "### Single Target"
   ]
  },
  {
   "cell_type": "code",
   "execution_count": 2,
   "metadata": {},
   "outputs": [
    {
     "name": "stdout",
     "output_type": "stream",
     "text": [
      "Estrutura dos dados:\n",
      "=> [[512]]\n",
      "=> [[-9.33616411e-06  3.21720449e-06  2.76575349e-07 ... -1.40952625e-06\n",
      "   4.76242394e-06  7.44319686e-06]\n",
      " [-9.19953618e-06  3.81338509e-06 -1.69830287e-07 ... -9.33614558e-07\n",
      "   4.78779384e-06  5.78259505e-06]\n",
      " [-8.76239483e-06  4.05657420e-06 -5.65875837e-07 ... -3.73375627e-07\n",
      "   4.77256617e-06  3.85764906e-06]\n",
      " ...\n",
      " [-6.36493542e-06 -4.95788026e-06  1.84012060e-06 ...  1.66852465e-06\n",
      "  -4.56182397e-06  3.26347526e-06]\n",
      " [-7.27165343e-06 -3.71680994e-06  3.16556816e-06 ...  1.32551168e-06\n",
      "  -5.73945363e-06  2.47344929e-06]\n",
      " [-7.40940459e-06 -2.38212033e-06  4.53115445e-06 ...  1.06891025e-06\n",
      "  -6.40901044e-06  1.28538466e-06]]\n",
      "=> ['Oz']\n",
      "=> ['02-Dec-2012 20:03:39']\n",
      "=> ['LCD Monitor, Benq XL2420T']\n",
      "=> ['31']\n",
      "=> ['60 cm']\n",
      "=> ['F']\n",
      "=> [[10.  10.  10.   6.5  6.5  6.5  6.   6.   6.   7.5  7.5  7.5  7.   7.\n",
      "   7.   8.2  8.2  8.2  9.3  9.3  9.3]]\n",
      "=> ['1.7 cm']\n"
     ]
    }
   ],
   "source": [
    "# pré-carregamento\n",
    "\n",
    "avi_data = list()\n",
    "for i in range(1,5):\n",
    "    avi_data.append(loadmat(f\"../datasets/avi/single/Sub{i}_singletarget.mat\"))\n",
    "\n",
    "# data structure\n",
    "print('Estrutura dos dados:')\n",
    "for field in ['AmpSamplingFrequency', 'EEG', 'ElectrodePlacement', 'RecordedDate', 'StimulusDevice', 'SubjectAge', 'SubjectDistance', 'SubjectGender', 'TargetFrequency','TargetSize']:\n",
    "    print('=>', avi_data[-1]['Data'][0][0][field])"
   ]
  },
  {
   "cell_type": "code",
   "execution_count": 3,
   "metadata": {},
   "outputs": [
    {
     "name": "stdout",
     "output_type": "stream",
     "text": [
      "Divisão dos dados:\n",
      "(15360, 27)\n",
      "(15360, 26)\n",
      "(15360, 21)\n",
      "(15360, 21)\n",
      "\n",
      "Divisão dos rótulos (sequências):\n",
      "[[10.  10.  10.  12.  12.  12.   6.5  6.5  6.5  6.   6.   6.   6.   6.\n",
      "   6.   7.5  7.5  7.5  7.   7.   7.   8.2  8.2  8.2  9.3  9.3  9.3]]\n",
      "(1, 27)\n",
      "[[10.  10.  10.   6.5  6.5  6.5  6.5  6.   6.   6.   7.5  7.5  7.5  7.\n",
      "   7.   7.   7.   7.   7.   8.2  8.2  8.2  8.2  9.3  9.3  9.3]]\n",
      "(1, 26)\n",
      "[[10.  10.  10.   6.5  6.5  6.5  6.   6.   6.   7.5  7.5  7.5  7.   7.\n",
      "   7.   8.2  8.2  8.2  9.3  9.3  9.3]]\n",
      "(1, 21)\n",
      "[[10.  10.  10.   6.5  6.5  6.5  6.   6.   6.   7.5  7.5  7.5  7.   7.\n",
      "   7.   8.2  8.2  8.2  9.3  9.3  9.3]]\n",
      "(1, 21)\n"
     ]
    }
   ],
   "source": [
    "# extração direta dos dados\n",
    "\n",
    "X = [d['Data'][0][0][\"EEG\"] for d in avi_data]\n",
    "y = [d['Data'][0][0][\"TargetFrequency\"] for d in avi_data]\n",
    "\n",
    "print(\"Divisão dos dados:\")\n",
    "for data in X:\n",
    "    print(data.shape)\n",
    "\n",
    "print(\"\\nDivisão dos rótulos (sequências):\")\n",
    "for label in y:\n",
    "    print(label)\n",
    "    print(label.shape)"
   ]
  },
  {
   "cell_type": "code",
   "execution_count": 4,
   "metadata": {},
   "outputs": [
    {
     "name": "stdout",
     "output_type": "stream",
     "text": [
      "[[10.  10.  10.   6.5  6.5  6.5  6.   6.   6.   7.5  7.5  7.5  7.   7.\n",
      "   7.   8.2  8.2  8.2  9.3  9.3  9.3]]\n",
      "(1, 21)\n",
      "[[10.  10.  10.   6.5  6.5  6.5  6.   6.   6.   7.5  7.5  7.5  7.   7.\n",
      "   7.   8.2  8.2  8.2  9.3  9.3  9.3]]\n",
      "(1, 21)\n",
      "[[10.  10.  10.   6.5  6.5  6.5  6.   6.   6.   7.5  7.5  7.5  7.   7.\n",
      "   7.   8.2  8.2  8.2  9.3  9.3  9.3]]\n",
      "(1, 21)\n",
      "[[10.  10.  10.   6.5  6.5  6.5  6.   6.   6.   7.5  7.5  7.5  7.   7.\n",
      "   7.   8.2  8.2  8.2  9.3  9.3  9.3]]\n",
      "(1, 21)\n"
     ]
    }
   ],
   "source": [
    "# todos com 21 eletrodos\n",
    "\n",
    "# padronizando 1º participante\n",
    "X[0] = X[0][:, list(set(range(27)) - set([3, 4, 5, 12, 13, 14]))]\n",
    "y[0] = y[0][:, list(set(range(27)) - set([3, 4, 5, 12, 13, 14]))]\n",
    "\n",
    "# pardonizando 2º participante\n",
    "X[1] = X[1][:, list(set(range(26)) - set([3, 13, 14, 18, 19]))]\n",
    "y[1] = y[1][:, list(set(range(26)) - set([3, 13, 14, 18, 19]))]\n",
    "\n",
    "for label in y:\n",
    "    print(label)\n",
    "    print(label.shape) "
   ]
  },
  {
   "cell_type": "code",
   "execution_count": 5,
   "metadata": {},
   "outputs": [
    {
     "name": "stdout",
     "output_type": "stream",
     "text": [
      "(4, 21, 15360)\n",
      "(4, 21)\n"
     ]
    }
   ],
   "source": [
    "data = np.array([x.T for x in X])\n",
    "print(data.shape)\n",
    "\n",
    "label = np.array([y_i.T.flatten() for y_i in y])\n",
    "print(label.shape)\n",
    "\n",
    "np.save(\"../datasets/avi/single/data.npy\", data)\n",
    "np.save(\"../datasets/avi/single/labels.npy\", label)"
   ]
  },
  {
   "attachments": {},
   "cell_type": "markdown",
   "metadata": {},
   "source": [
    "### Multi Target"
   ]
  },
  {
   "cell_type": "code",
   "execution_count": 6,
   "metadata": {},
   "outputs": [
    {
     "name": "stdout",
     "output_type": "stream",
     "text": [
      "Estrutura dos dados:\n",
      "=> [[512]]\n",
      "=> [[-1.98610496e-06 -2.40262381e-07 -7.57545831e-06 ...  4.53932125e-06\n",
      "  -4.91311130e-06  5.93546565e-06]\n",
      " [-2.60831894e-06 -1.51966219e-06 -7.56298550e-06 ...  5.23718472e-06\n",
      "  -4.93273683e-06  5.80861615e-06]\n",
      " [-3.41837904e-06 -2.69561224e-06 -7.31435466e-06 ...  5.81656832e-06\n",
      "  -4.89990089e-06  5.68626501e-06]\n",
      " ...\n",
      " [ 3.52045618e-06 -7.76062734e-06  2.55509349e-06 ...  8.82902782e-07\n",
      "  -6.68652501e-06  2.95734026e-07]\n",
      " [ 3.84483110e-06 -8.56403312e-06  1.81921507e-06 ...  1.58545356e-06\n",
      "  -6.00686872e-06  8.81689118e-07]\n",
      " [ 3.97485974e-06 -9.50244339e-06  6.80468645e-07 ...  2.20345760e-06\n",
      "  -5.15466536e-06  1.45835133e-06]]\n",
      "=> ['Oz']\n",
      "=> [[ 6. ]\n",
      " [ 6.5]\n",
      " [ 7. ]\n",
      " [ 7.5]\n",
      " [ 8.2]\n",
      " [ 9.3]\n",
      " [10. ]]\n",
      "=> ['1.722']\n",
      "=> ['12-Jan-2013 18:29:48']\n",
      "=> ['LCD Monitor, Benq XL2420T']\n",
      "=> ['26']\n",
      "=> ['60 cm']\n",
      "=> ['M']\n",
      "=> [[7.5 8.2 7.  8.2 6.  7.5 6.  6.  8.2 8.2]]\n",
      "=> ['1.7 cm']\n"
     ]
    }
   ],
   "source": [
    "avi_data_multi = list()\n",
    "\n",
    "for i in range(1,6):\n",
    "    avi_data_multi.append(list())\n",
    "    for j in range(1,3):\n",
    "        avi_data_multi[i-1].append(loadmat(f\"../datasets/avi/multi/Sub{i}_{j}_multitarget.mat\"))\n",
    "\n",
    "# data structure\n",
    "print('Estrutura dos dados:')\n",
    "for field in ['AmpSamlingFrequency', 'EEG', 'ElectrodePlacement', 'FlickeringFrequencies', 'FzImpedance', 'RecordedDate', 'StimulusDevice', 'SubjectAge', 'SubjectDistance', 'SubjectGender', 'TargetFrequency','TargetSize']:\n",
    "    #[subject][trial]['Data'][0][0][field]\n",
    "    print('=>', avi_data_multi[-1][0]['Data'][0][0][field])"
   ]
  },
  {
   "cell_type": "code",
   "execution_count": 7,
   "metadata": {},
   "outputs": [
    {
     "name": "stdout",
     "output_type": "stream",
     "text": [
      "(5, 2, 10, 8192)\n",
      "(5, 20, 8192)\n",
      "(5, 2, 10)\n",
      "(5, 20)\n"
     ]
    }
   ],
   "source": [
    "# extração direta dos dados\n",
    "\n",
    "X, y = list(), list() \n",
    "for subject in avi_data_multi:\n",
    "    X.append(list())\n",
    "    y.append(list())\n",
    "    for trial in subject:\n",
    "        #transposto\n",
    "        X[-1].append(trial['Data'][0][0]['EEG'].T)\n",
    "        y[-1].append(trial['Data'][0][0]['TargetFrequency'].T.flatten())\n",
    "\n",
    "\n",
    "data = np.array(X)\n",
    "# concatenated_X = [np.concatenate([X[0], X[1]], axis=1) for n in range(len(X))]\n",
    "concatenated_X = data.reshape(5,20,8192)\n",
    "print(data.shape)\n",
    "\n",
    "print(concatenated_X.shape)\n",
    "data = concatenated_X\n",
    "label = np.array(y)\n",
    "print(label.shape)\n",
    "\n",
    "concatenated_y = label.reshape(5,20)\n",
    "# concatenated_y = np.array(concatenated_y)\n",
    "# concatenated_y = concatenated_y[:, 0:1, :]\n",
    "# concatenated_y = concatenated_y.reshape((5, 20))\n",
    "label = concatenated_y\n",
    "print(label.shape)\n"
   ]
  },
  {
   "cell_type": "code",
   "execution_count": 8,
   "metadata": {},
   "outputs": [],
   "source": [
    "np.save(\"../datasets/avi/multi/data.npy\", data)\n",
    "np.save(\"../datasets/avi/multi/labels.npy\", label)"
   ]
  }
 ],
 "metadata": {
  "kernelspec": {
   "display_name": "Python 3 (ipykernel)",
   "language": "python",
   "name": "python3"
  },
  "language_info": {
   "codemirror_mode": {
    "name": "ipython",
    "version": 3
   },
   "file_extension": ".py",
   "mimetype": "text/x-python",
   "name": "python",
   "nbconvert_exporter": "python",
   "pygments_lexer": "ipython3",
   "version": "3.10.12"
  }
 },
 "nbformat": 4,
 "nbformat_minor": 4
}
