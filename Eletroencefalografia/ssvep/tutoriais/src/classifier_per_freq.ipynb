{
 "cells": [
  {
   "cell_type": "markdown",
   "metadata": {},
   "source": [
    "# Passos para a realização da classificação\n",
    "\n",
    "- Carrega o arquivo `fif`(`mne.Ep`) dos dados *filtrados*;\n",
    "- *Obter a \"energia\"* do sinal por meio do cálculo `compute_psd`_;\n",
    "- *Determine o limiar* para isolar cada uma das frequências estimuladas. Por exemplo, a faixa de frequência para o estímulo de 6.5 Hz irá resultar em pontos (`PSD`) que irão variar de 6.3 à 6.7 Hz, caso o limiar seja de 0.2 Hz;\n",
    "- Com as listas de pontos isoladas para cada estimulo, aplique uma caraceristica adequada. Características manuais interessantes para este exemplo podem ser `max_value`, `average` ou `median`. No fim deste passo iremos obter um *vetor de características*;\n",
    "- Por fim, realize a *classificação*, que será um *cálculo de voto* simples (maior valor é provavelmente o da frequência evocada)."
   ]
  },
  {
   "cell_type": "markdown",
   "metadata": {},
   "source": []
  }
 ],
 "metadata": {
  "language_info": {
   "name": "python"
  }
 },
 "nbformat": 4,
 "nbformat_minor": 2
}
