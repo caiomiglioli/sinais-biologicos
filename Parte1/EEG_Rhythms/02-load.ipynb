{
 "cells": [
  {
   "attachments": {},
   "cell_type": "markdown",
   "id": "6d06b2aa",
   "metadata": {},
   "source": [
    "# Carregamento e preparação de dados"
   ]
  },
  {
   "cell_type": "code",
   "execution_count": 4,
   "id": "ecb7d73b",
   "metadata": {},
   "outputs": [],
   "source": [
    "import numpy as np\n",
    "import pandas as pd\n",
    "import csv\n",
    "import re"
   ]
  },
  {
   "cell_type": "markdown",
   "id": "be904b63",
   "metadata": {},
   "source": [
    "**Fazendo o carregamento inicial por meio de expressões regulares**"
   ]
  },
  {
   "cell_type": "code",
   "execution_count": 5,
   "id": "02266da4",
   "metadata": {},
   "outputs": [
    {
     "name": "stdout",
     "output_type": "stream",
     "text": [
      "(175952, 8)\n"
     ]
    }
   ],
   "source": [
    "with open('datasets/OpenBCI_GUI-v5-meditation.txt') as arquivo:\n",
    "    linhas = arquivo.readlines()\n",
    "    \n",
    "data = list()\n",
    "\n",
    "for linha in linhas:\n",
    "    res = re.search('^\\d{1,3},(?P<dado>(\\ -?.+?,){8})', linha)\n",
    "        \n",
    "    if res:\n",
    "        cols = res.group(1)\n",
    "        data.append([float(d[1:]) for d in cols.split(',') if d])\n",
    "\n",
    "data = np.array(data[1:])\n",
    "# quantidade de dados\n",
    "print(data.shape)\n",
    "\n",
    "np.save('datasets/processed/OpenBCI_GUI-v5-meditation/original.npy', data)"
   ]
  },
  {
   "cell_type": "markdown",
   "id": "feaa41fd",
   "metadata": {},
   "source": [
    "\n",
    "**Fazendo o carregamento inicial por meio do pandas**"
   ]
  },
  {
   "cell_type": "code",
   "execution_count": 6,
   "id": "8685cc56",
   "metadata": {},
   "outputs": [
    {
     "name": "stdout",
     "output_type": "stream",
     "text": [
      "(175952, 8)\n"
     ]
    },
    {
     "data": {
      "text/plain": [
       "array([[ 45997.52,  37487.45, -22369.71, ..., -24777.78, -10055.49,\n",
       "         -3746.69],\n",
       "       [ 46077.2 ,  37578.29, -22259.92, ..., -24711.8 ,  -9977.57,\n",
       "         -3650.2 ],\n",
       "       [ 46157.87,  37690.05, -22231.69, ..., -24741.1 ,  -9976.9 ,\n",
       "         -3649.79],\n",
       "       ...,\n",
       "       [ 42445.92,  36844.3 , -19134.23, ..., -21854.02,  -3700.73,\n",
       "           488.59],\n",
       "       [ 42503.61,  36892.94, -19094.87, ..., -21886.02,  -3697.2 ,\n",
       "           493.86],\n",
       "       [ 42473.36,  36854.52, -19144.65, ..., -21926.19,  -3730.86,\n",
       "           449.9 ]])"
      ]
     },
     "execution_count": 6,
     "metadata": {},
     "output_type": "execute_result"
    }
   ],
   "source": [
    "df = pd.read_csv('datasets/OpenBCI_GUI-v5-meditation.txt', skiprows=5)\n",
    "\n",
    "df = df.iloc[:,[1,2,3,4,5,6,7,8]].astype(float)\n",
    "\n",
    "data_pandas = list()\n",
    "\n",
    "data_pandas = df.to_numpy()\n",
    "\n",
    "print(data_pandas.shape)\n",
    "data_pandas"
   ]
  },
  {
   "cell_type": "markdown",
   "id": "8309ca6b",
   "metadata": {},
   "source": [
    "**Fazendo o carregamento inicial por csv**"
   ]
  },
  {
   "cell_type": "code",
   "execution_count": 7,
   "id": "3cda235a",
   "metadata": {},
   "outputs": [
    {
     "name": "stdout",
     "output_type": "stream",
     "text": [
      "(175952, 8)\n"
     ]
    },
    {
     "data": {
      "text/plain": [
       "array([[ 45997.52,  37487.45, -22369.71, ..., -24777.78, -10055.49,\n",
       "         -3746.69],\n",
       "       [ 46077.2 ,  37578.29, -22259.92, ..., -24711.8 ,  -9977.57,\n",
       "         -3650.2 ],\n",
       "       [ 46157.87,  37690.05, -22231.69, ..., -24741.1 ,  -9976.9 ,\n",
       "         -3649.79],\n",
       "       ...,\n",
       "       [ 42445.92,  36844.3 , -19134.23, ..., -21854.02,  -3700.73,\n",
       "           488.59],\n",
       "       [ 42503.61,  36892.94, -19094.87, ..., -21886.02,  -3697.2 ,\n",
       "           493.86],\n",
       "       [ 42473.36,  36854.52, -19144.65, ..., -21926.19,  -3730.86,\n",
       "           449.9 ]])"
      ]
     },
     "execution_count": 7,
     "metadata": {},
     "output_type": "execute_result"
    }
   ],
   "source": [
    "with open('datasets/OpenBCI_GUI-v5-meditation.txt') as arquivo:\n",
    "    linhas = arquivo.readlines()\n",
    "\n",
    "data_csv = list()\n",
    "    \n",
    "for i in range(6,len(linhas)):\n",
    "    linha = linhas[i].split(',')\n",
    "    linha = linha[1:9]\n",
    "    \n",
    "    linha = [float(item) for item in linha]\n",
    "    \n",
    "    data_csv.append(linha)\n",
    "    \n",
    "data_csv = np.array(data_csv)    \n",
    "\n",
    "print(data_csv.shape)"
   ]
  }
 ],
 "metadata": {
  "kernelspec": {
   "display_name": "Python 3",
   "language": "python",
   "name": "python3"
  },
  "language_info": {
   "codemirror_mode": {
    "name": "ipython",
    "version": 3
   },
   "file_extension": ".py",
   "mimetype": "text/x-python",
   "name": "python",
   "nbconvert_exporter": "python",
   "pygments_lexer": "ipython3",
   "version": "3.10.6"
  },
  "vscode": {
   "interpreter": {
    "hash": "916dbcbb3f70747c44a77c7bcd40155683ae19c65e1c03b4aa3499c5328201f1"
   }
  }
 },
 "nbformat": 4,
 "nbformat_minor": 5
}
