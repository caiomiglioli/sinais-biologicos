{
 "cells": [
  {
   "cell_type": "code",
   "execution_count": 1,
   "id": "f5ba65a8",
   "metadata": {},
   "outputs": [
    {
     "data": {
      "text/plain": [
       "(8, 175952)"
      ]
     },
     "execution_count": 1,
     "metadata": {},
     "output_type": "execute_result"
    }
   ],
   "source": [
    "import numpy as np\n",
    "\n",
    "data = np.load(\"datasets/OpenBCI_GUI-v5-meditation_filtered.npy\")\n",
    "data.shape"
   ]
  },
  {
   "cell_type": "code",
   "execution_count": 6,
   "id": "57408e35",
   "metadata": {},
   "outputs": [
    {
     "data": {
      "text/plain": [
       "array([ 8.        ,  8.05050505,  8.1010101 ,  8.15151515,  8.2020202 ,\n",
       "        8.25252525,  8.3030303 ,  8.35353535,  8.4040404 ,  8.45454545,\n",
       "        8.50505051,  8.55555556,  8.60606061,  8.65656566,  8.70707071,\n",
       "        8.75757576,  8.80808081,  8.85858586,  8.90909091,  8.95959596,\n",
       "        9.01010101,  9.06060606,  9.11111111,  9.16161616,  9.21212121,\n",
       "        9.26262626,  9.31313131,  9.36363636,  9.41414141,  9.46464646,\n",
       "        9.51515152,  9.56565657,  9.61616162,  9.66666667,  9.71717172,\n",
       "        9.76767677,  9.81818182,  9.86868687,  9.91919192,  9.96969697,\n",
       "       10.02020202, 10.07070707, 10.12121212, 10.17171717, 10.22222222,\n",
       "       10.27272727, 10.32323232, 10.37373737, 10.42424242, 10.47474747,\n",
       "       10.52525253, 10.57575758, 10.62626263, 10.67676768, 10.72727273,\n",
       "       10.77777778, 10.82828283, 10.87878788, 10.92929293, 10.97979798,\n",
       "       11.03030303, 11.08080808, 11.13131313, 11.18181818, 11.23232323,\n",
       "       11.28282828, 11.33333333, 11.38383838, 11.43434343, 11.48484848,\n",
       "       11.53535354, 11.58585859, 11.63636364, 11.68686869, 11.73737374,\n",
       "       11.78787879, 11.83838384, 11.88888889, 11.93939394, 11.98989899,\n",
       "       12.04040404, 12.09090909, 12.14141414, 12.19191919, 12.24242424,\n",
       "       12.29292929, 12.34343434, 12.39393939, 12.44444444, 12.49494949,\n",
       "       12.54545455, 12.5959596 , 12.64646465, 12.6969697 , 12.74747475,\n",
       "       12.7979798 , 12.84848485, 12.8989899 , 12.94949495, 13.        ])"
      ]
     },
     "execution_count": 6,
     "metadata": {},
     "output_type": "execute_result"
    }
   ],
   "source": [
    "theta = np.arange(3, 8)\n",
    "alpha = np.arange(8, 13)\n",
    "beta = np.arange(12, 33)\n",
    "gama = np.arange(25, 100)\n",
    "\n",
    "np.linspace(8, 13, 100)\n",
    "\n",
    "# analisar dados no domínio da frequência e scipy.signal.welch"
   ]
  },
  {
   "cell_type": "code",
   "execution_count": 5,
   "id": "37b25bc4",
   "metadata": {},
   "outputs": [
    {
     "data": {
      "text/plain": [
       "array([3, 4, 5, 6, 7])"
      ]
     },
     "execution_count": 5,
     "metadata": {},
     "output_type": "execute_result"
    }
   ],
   "source": [
    "theta"
   ]
  },
  {
   "cell_type": "code",
   "execution_count": null,
   "id": "79378056",
   "metadata": {},
   "outputs": [],
   "source": []
  }
 ],
 "metadata": {
  "kernelspec": {
   "display_name": "Python 3",
   "language": "python",
   "name": "python3"
  },
  "language_info": {
   "codemirror_mode": {
    "name": "ipython",
    "version": 3
   },
   "file_extension": ".py",
   "mimetype": "text/x-python",
   "name": "python",
   "nbconvert_exporter": "python",
   "pygments_lexer": "ipython3",
   "version": "3.10.6"
  },
  "vscode": {
   "interpreter": {
    "hash": "916dbcbb3f70747c44a77c7bcd40155683ae19c65e1c03b4aa3499c5328201f1"
   }
  }
 },
 "nbformat": 4,
 "nbformat_minor": 5
}
