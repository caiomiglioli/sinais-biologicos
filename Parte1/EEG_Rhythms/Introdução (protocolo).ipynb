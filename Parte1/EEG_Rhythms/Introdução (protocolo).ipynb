{
 "cells": [
  {
   "attachments": {},
   "cell_type": "markdown",
   "id": "9f25a978",
   "metadata": {},
   "source": [
    "# Introdução\n",
    "\n",
    "O eletroencefalograma (EEG) é um registro da atividade elétrica do cérebro a partir do couro cabeludo. As formas de onda registradas refletem a atividade elétrica cortical.\n",
    "\n",
    "Tomamos conhecimento de algumas propriedades:\n",
    "\n",
    "**(1) Intensidade do sinal**: a atividade do EEG é bastante pequena, medida em microvolts (mV).\n",
    "\n",
    "**(2) Frequência do sinal**: as principais frequências das ondas do EEG humano são:\n",
    "\n",
    "- **Delta ($\\delta$)**: tem uma frequência de 3 Hz ou menos. Tende a ter a amplitude mais alta e as ondas mais lentas. É normal como ritmo dominante em lactentes até um ano e nos estágios 3 e 4 do sono. Pode ocorrer focalmente com lesões subcorticais e em distribuição geral com lesões difusas, encefalopatia metabólica, hidrocefalia ou lesões profundas da linha média.\n",
    "- **Teta ($\\theta$)**: tem frequência de 3,5 a 7,5 Hz e é classificado como atividade uma \"lenta\". É normal em crianças de até 13 anos e durante o sono, mas anormal em adultos acordados. Pode ser vista como uma manifestação de lesões subcorticais focais; também pode ser observada em distribuição generalizada em distúrbios difusos, como encefalopatia metabólica ou alguns casos de hidrocefalia.\n",
    "- **Alfa ($\\alpha$)**: tem uma frequência entre 7,5 e 13 Hz. Geralmente é melhor visto nas regiões posteriores da cabeça de cada lado, sendo maior em amplitude no lado dominante. Aparece ao fechar os olhos e relaxar, e desaparece ao abrir os olhos ou um alerta como pensar ou calcular. É o ritmo principal observado em adultos relaxados normais. Está presente durante a maior parte da vida, especialmente após o décimo terceiro ano.\n",
    "- **Beta ($\\beta$)**: a atividade beta é uma atividade \"rápida\". Tem uma frequência de 14 Hz e superior. Geralmente é visto em ambos os lados em distribuição simétrica e é mais evidente frontalmente. É acentuado por drogas sedativo-hipnóticas, especialmente os benzodiazepínicos e os barbitúricos. Pode estar ausente ou reduzido em áreas de dano cortical. Geralmente é considerado um ritmo normal. É o ritmo dominante em pacientes alertas, ansiosos ou com os olhos abertos.\n",
    "\n",
    "![](img/eeGtrace.gif)"
   ]
  },
  {
   "cell_type": "markdown",
   "id": "4d3c76d2",
   "metadata": {},
   "source": [
    "## Variáveis utilizadas na classificação de atividades com EEG\n",
    "\n",
    "### Frequência\n",
    "\n",
    "A frequência refere-se à atividade repetitiva rítmica (em Hz). A frequência da atividade EEG pode ter propriedades diferentes, incluindo:\n",
    "\n",
    "- **Rítmico**. Atividade de EEG que consiste em ondas de frequência aproximadamente constante.\n",
    "- **Arrítmico**. Atividade de EEG em que não há ritmos estáveis.\n",
    "- **Disrítmico**. Ritmos e/ou padrões de atividade de EEG que aparecem em alguns grupos de pacientes ou raramente vistos em indivíduos saudáveis.\n",
    "\n",
    "### Tensão\n",
    "\n",
    "A tensão refere-se à tensão média ou tensão de pico da atividade EEG. Os valores dependem, em parte, da técnica de gravação. Os termos descritivos associados à tensão do EEG incluem:\n",
    "\n",
    "1. **Atenuação (sinônimos: supressão, depressão)**. Redução da amplitude da atividade do EEG resultante da diminuição da tensão. Quando a atividade é atenuada pela estimulação, diz-se que foi \"bloqueada\" ou que apresenta \"bloqueio\".\n",
    "2. **Hipersincronia**. Visto como um aumento na voltagem e regularidade da atividade rítmica, ou dentro da faixa alfa, beta ou teta. O termo implica num aumento do número de elementos neurais que contribuem para o ritmo.\n",
    "3. **Paroxística**. Atividade que emerge do \"*background*\" com um início rápido, atingindo (geralmente) uma tensão bastante alta e terminando com um retorno abrupto à atividade de tensão mais baixa. Embora o termo não implique diretamente em anormalidade, muitas atividades anormais são paroxísticas.\n",
    "\n",
    "### Morfologia\n",
    "\n",
    "A morfologia refere-se à forma de onda. A forma de uma onda ou padrão de EEG é determinada pelas frequências que se combinam para formar a forma de onda e por suas relações de fase e tensão. Os padrões de onda podem ser descritos como sendo:\n",
    "\n",
    "\n",
    "\n",
    "### Sincronia\n",
    "\n",
    "\n",
    "\n",
    "### Periodicidade\n",
    "\n"
   ]
  },
  {
   "cell_type": "markdown",
   "id": "28d5eb51",
   "metadata": {},
   "source": [
    "## Artefatos\n",
    "\n",
    "\n",
    "\n",
    "### Atividade eletromiografica (EMG)\n",
    "\n",
    "\n",
    "\n",
    "### Movimento dos olhos\n",
    "\n",
    "\n",
    "\n",
    "### Artefatos da pele\n",
    "\n",
    "\n",
    "\n",
    "### Artefato em 50/60 Hz\n",
    "\n",
    "\n",
    "\n",
    "### Correções:\n",
    "\n",
    "- **Amplicação diferencial**: \n",
    "\n",
    "    \n",
    "\n",
    "- **Filtragem temporal**: \n",
    "\n",
    "    "
   ]
  },
  {
   "cell_type": "code",
   "execution_count": null,
   "id": "152e962d",
   "metadata": {},
   "outputs": [],
   "source": []
  }
 ],
 "metadata": {
  "kernelspec": {
   "display_name": "Python 3",
   "language": "python",
   "name": "python3"
  },
  "language_info": {
   "codemirror_mode": {
    "name": "ipython",
    "version": 3
   },
   "file_extension": ".py",
   "mimetype": "text/x-python",
   "name": "python",
   "nbconvert_exporter": "python",
   "pygments_lexer": "ipython3",
   "version": "3.10.6"
  },
  "vscode": {
   "interpreter": {
    "hash": "916dbcbb3f70747c44a77c7bcd40155683ae19c65e1c03b4aa3499c5328201f1"
   }
  }
 },
 "nbformat": 4,
 "nbformat_minor": 5
}
