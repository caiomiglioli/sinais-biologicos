{
 "cells": [
  {
   "cell_type": "markdown",
   "metadata": {},
   "source": [
    "## Preparação dos dados EOG\n",
    "\n",
    "Neste notebook está incluído os seguintes passos:\n",
    "- Realização do carregamento do *dataset*;\n",
    "- Aplicação dos filtros temporais (~ 5-50 Hz) - deixado como **tarefa**;\n",
    "- Segmentação de dados nos domínios do tempo e da frequência em janelas deslizantes com sobreposição."
   ]
  },
  {
   "cell_type": "code",
   "execution_count": 66,
   "metadata": {},
   "outputs": [],
   "source": [
    "import numpy as np\n",
    "from scipy import signal\n",
    "from scipy.signal import stft"
   ]
  },
  {
   "cell_type": "markdown",
   "metadata": {},
   "source": [
    "### Load"
   ]
  },
  {
   "cell_type": "code",
   "execution_count": 67,
   "metadata": {},
   "outputs": [
    {
     "data": {
      "text/plain": [
       "((28, 1000, 4), (28, 1000, 4))"
      ]
     },
     "execution_count": 67,
     "metadata": {},
     "output_type": "execute_result"
    }
   ],
   "source": [
    "# Carregamento dos datasets\n",
    "\n",
    "data1 = np.load(\"../../datasets/eog/Gabi.npy\")\n",
    "data2 = np.load(\"../../datasets/eog/Jesse.npy\")\n",
    "\n",
    "data1.shape, data2.shape"
   ]
  },
  {
   "cell_type": "code",
   "execution_count": 68,
   "metadata": {},
   "outputs": [
    {
     "data": {
      "text/plain": [
       "(2, 28, 2, 1000)"
      ]
     },
     "execution_count": 68,
     "metadata": {},
     "output_type": "execute_result"
    }
   ],
   "source": [
    "# Correção do número de eletrodos e unificação\n",
    "\n",
    "# os dois primeiros eletrodos são funcionais\n",
    "data1 = data1[:,:,:2]\n",
    "data2 = data2[:,:,:2]\n",
    "\n",
    "data = np.array([data1, data2])\n",
    "\n",
    "# colocando os dados da dimensão final\n",
    "data = data.transpose(0, 1, 3, 2)\n",
    "\n",
    "# (subjects, instances, eletrodes, values)\n",
    "data.shape"
   ]
  },
  {
   "cell_type": "markdown",
   "metadata": {},
   "source": [
    "### Processing"
   ]
  },
  {
   "cell_type": "code",
   "execution_count": 69,
   "metadata": {},
   "outputs": [],
   "source": [
    "# funcões para aplicação dos filtros temporais\n",
    "\n",
    "def butter_bandpass(data, lowcut, highcut, fs=200, order=4):\n",
    "    nyq = fs * 0.5\n",
    "    low = lowcut / nyq\n",
    "    high = highcut / nyq\n",
    "    b, a = signal.butter(order, [low, high], btype='bandpass')\n",
    "    return signal.filtfilt(b, a, data)\n",
    "\n",
    "def butter_notch(data, cutoff, var=1, fs=200, order=4):\n",
    "    nyq = fs * 0.5\n",
    "    low = (cutoff - var) / nyq\n",
    "    high = (cutoff + var) / nyq\n",
    "    b, a = signal.iirfilter(order, [low, high], btype='bandstop', ftype=\"butter\")\n",
    "    return signal.filtfilt(b, a, data)"
   ]
  },
  {
   "cell_type": "markdown",
   "metadata": {},
   "source": [
    "*Tarefa 1*: Realizem a aplicação dos filtros para toda a base."
   ]
  },
  {
   "cell_type": "code",
   "execution_count": 70,
   "metadata": {},
   "outputs": [
    {
     "data": {
      "text/plain": [
       "(2, 28, 2, 1000)"
      ]
     },
     "execution_count": 70,
     "metadata": {},
     "output_type": "execute_result"
    }
   ],
   "source": [
    "# aplicação dos filtros\n",
    "data_filtered = butter_notch(data, 60)\n",
    "data_filtered = butter_bandpass(data_filtered, 5, 50)\n",
    "data_filtered.shape"
   ]
  },
  {
   "cell_type": "code",
   "execution_count": 71,
   "metadata": {},
   "outputs": [],
   "source": [
    "# juntando participantes (apenas para demonstração) ???????????\n",
    "\n",
    "# data = data.reshape(data.shape[0] * data.shape[1], data.shape[2], data.shape[3])\n",
    "# data.shape"
   ]
  },
  {
   "cell_type": "markdown",
   "metadata": {},
   "source": [
    "#### Segmentação dos dados\n",
    "\n",
    "As características normalmente são extraídas sobre pequenos segmentos de tamanho fixo dos dados, não no dado como um todo. Estes pequenos segmentos são chamados de janelas. A técnica de separar os dados em janelas, recebe o nome de janela deslizante (*sliding window*) e é uma forma de segmentação de dados. Uma boa prática, é definir um passo para essa janela de forma que haja uma sopreposição de dados, para que informações da lacuna de uma janela e outra não sejam perdidas. Na imagem a seguir podemos observar um sinal EOG.\n",
    "\n",
    "Algumas características de EMG trabalham com o dado no domínio da frequência. Quando tais características são aplicadas, é necessário tranformar o dado para o domínio da frequência, utilizando o método de transformação de domínio `STFT`, do inglês *Short-time Fourier transform* (Transformada de Fourier de curto termo). \n",
    "\n",
    "Os trechos de código a seguir dividem o dadom em segmentos, tanto no domínio do tempo quanto no domínio da frequência."
   ]
  },
  {
   "cell_type": "code",
   "execution_count": 72,
   "metadata": {},
   "outputs": [
    {
     "name": "stdout",
     "output_type": "stream",
     "text": [
      "Shape inicial: (2, 28, 2, 1000)\n",
      "Dominio do tempo: (2, 28, 2, 33, 64) - (participantes, ensaios, eletrodos, janelas, valores)\n",
      "Dominio da frequência:  (2, 28, 2, 33, 33) - (participantes, ensaios, eletrodos, janelas, valores)\n"
     ]
    }
   ],
   "source": [
    "step = 29\n",
    "segment = 64\n",
    "\n",
    "n_win = int((data_filtered.shape[-1] - segment) / step) + 1\n",
    "ids = np.arange(n_win) * step\n",
    "\n",
    "# Janelas do dado no dominio do tempo\n",
    "chunks_time = np.array([data_filtered[:,:,:,k:(k + segment)] for k in ids]).transpose(1, 2, 3, 0, 4)\n",
    "\n",
    "# Janelas do dado no domínio da frequência\n",
    "_, _, chunks_freq = stft(data_filtered, fs=200, nperseg=segment, noverlap=32)\n",
    "chunks_freq = np.swapaxes(chunks_freq, 3, 4)\n",
    "\n",
    "# info\n",
    "print('Shape inicial:', data_filtered.shape)\n",
    "# print('Formato (shape) dos dados depois da divisão de janelas')\n",
    "print(f'Dominio do tempo: {chunks_time.shape} - (participantes, ensaios, eletrodos, janelas, valores)')\n",
    "print(f'Dominio da frequência:  {chunks_freq.shape} - (participantes, ensaios, eletrodos, janelas, valores)')"
   ]
  },
  {
   "cell_type": "markdown",
   "metadata": {},
   "source": [
    "*Tarefa 2*: separar os participantes e armazenar os dados em disco para a execução das próximas tarefas."
   ]
  },
  {
   "cell_type": "code",
   "execution_count": 73,
   "metadata": {},
   "outputs": [],
   "source": [
    "np.save(\"processed/segmented_data_t.npy\", chunks_time)\n",
    "np.save(\"processed/segmented_data_f.npy\", chunks_freq)"
   ]
  }
 ],
 "metadata": {
  "kernelspec": {
   "display_name": "venv",
   "language": "python",
   "name": "python3"
  },
  "language_info": {
   "codemirror_mode": {
    "name": "ipython",
    "version": 3
   },
   "file_extension": ".py",
   "mimetype": "text/x-python",
   "name": "python",
   "nbconvert_exporter": "python",
   "pygments_lexer": "ipython3",
   "version": "3.10.12"
  }
 },
 "nbformat": 4,
 "nbformat_minor": 2
}
