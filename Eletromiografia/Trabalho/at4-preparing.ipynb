{
 "cells": [
  {
   "attachments": {},
   "cell_type": "markdown",
   "metadata": {},
   "source": [
    "# Extração de Características\n",
    "\n",
    "Load"
   ]
  },
  {
   "cell_type": "code",
   "execution_count": 5,
   "metadata": {},
   "outputs": [
    {
     "name": "stdout",
     "output_type": "stream",
     "text": [
      "(792,)\n",
      "{0: (792, 40), 1: (792, 40), 2: (792, 40), 3: (792, 40), 4: (792, 40), 5: (792, 40), 6: (792, 40), 7: (792, 40), 8: (792, 40), 9: (792, 40)}\n"
     ]
    }
   ],
   "source": [
    "import numpy as np\n",
    "\n",
    "y = np.array([0,1,2,3,4,5,6,7] * 99)\n",
    "\n",
    "voluntarios = dict()\n",
    "for v in range(10):\n",
    "    voluntarios[v] = np.load(f'./datasets/caract_{v}.npy')"
   ]
  }
 ],
 "metadata": {
  "kernelspec": {
   "display_name": "Python 3",
   "language": "python",
   "name": "python3"
  },
  "language_info": {
   "codemirror_mode": {
    "name": "ipython",
    "version": 3
   },
   "file_extension": ".py",
   "mimetype": "text/x-python",
   "name": "python",
   "nbconvert_exporter": "python",
   "pygments_lexer": "ipython3",
   "version": "3.10.6"
  },
  "orig_nbformat": 4
 },
 "nbformat": 4,
 "nbformat_minor": 2
}
