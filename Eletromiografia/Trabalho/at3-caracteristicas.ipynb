{
 "cells": [
  {
   "attachments": {},
   "cell_type": "markdown",
   "metadata": {},
   "source": [
    "# Extração de Características\n",
    "\n",
    "Load"
   ]
  },
  {
   "cell_type": "code",
   "execution_count": 19,
   "metadata": {},
   "outputs": [
    {
     "name": "stdout",
     "output_type": "stream",
     "text": [
      "10, 3, 8, 4, 1600\n",
      "Formato (shape) dos dados depois da divisão de janelas\n",
      "Dominio do tempo: (10, 24, 4, 33, 64) - (voluntario, classes+ensaios, canais, janelas, linhas)\n",
      "Dominio da frequência:  (10, 24, 4, 33, 51) - (voluntario, classes+ensaios, canais, janelas, linhas)\n",
      "Formato (shape) dos dados no domínio da frequência usando o método Welch:\n",
      "Domínio da frequência: (10, 24, 4, 33) - (voluntário, classes+ensaios, canais, janelas)\n",
      "\n",
      "====================== Importados da at2 ======================\n",
      "Data original (10, 24, 4, 1600)\n",
      "Dominio do tempo: (240, 4, 33, 64) - (voluntario*classes*ensaios, canais, janelas, linhas)\n",
      "Dominio da frequência:  (240, 4, 33, 51) - (voluntario*classes*ensaios, canais, janelas, linhas)\n",
      "PSD-Welch (dom. da frequência): (240, 4, 33) - (voluntário*classes*ensaios, canais, janelas)\n"
     ]
    }
   ],
   "source": [
    "# imports\n",
    "import numpy as np\n",
    "# from math import prod\n",
    "\n",
    "%run \"at2-preprocessamento.ipynb\"\n",
    "\n",
    "print(\"\\n====================== Importados da at2 ======================\")\n",
    "\n",
    "data, chunks_time, chunks_freq, Pxx = data, chunks_time, chunks_freq, Pxx #pra desbugar o lint\n",
    "\n",
    "print(f'Data original {data.shape}')\n",
    "\n",
    "voluntarios, classes_ensaios, canais, janelas, linhas = chunks_time.shape\n",
    "chunks_time = chunks_time.reshape(voluntarios * classes_ensaios, canais, janelas, linhas)\n",
    "print(f'Dominio do tempo: {chunks_time.shape} - (voluntario*classes*ensaios, canais, janelas, linhas)')\n",
    "\n",
    "voluntarios, classes_ensaios, canais, janelas, linhas = chunks_freq.shape\n",
    "chunks_freq = chunks_freq.reshape(voluntarios * classes_ensaios, canais, janelas, linhas)\n",
    "print(f'Dominio da frequência:  {chunks_freq.shape} - (voluntario*classes*ensaios, canais, janelas, linhas)')\n",
    "\n",
    "voluntário, classes_ensaios, canais, janelas = Pxx.shape\n",
    "Pxx = Pxx.reshape(voluntarios * classes_ensaios, canais, janelas)\n",
    "print(f'PSD-Welch (dom. da frequência): {Pxx.shape} - (voluntário*classes*ensaios, canais, janelas)')"
   ]
  },
  {
   "attachments": {},
   "cell_type": "markdown",
   "metadata": {},
   "source": [
    "### Funções de Extração de Características"
   ]
  },
  {
   "cell_type": "code",
   "execution_count": 48,
   "metadata": {},
   "outputs": [
    {
     "data": {
      "text/plain": [
       "array([[[215.9949514 , 217.62363877, 230.61637616, ..., 239.77985478,\n",
       "         250.70277115, 246.62946621],\n",
       "        [291.22634281, 289.58620635, 271.52593752, ..., 275.34526786,\n",
       "         275.72548903, 267.02649322],\n",
       "        [241.20371586, 242.86263965, 250.62890526, ..., 250.55453273,\n",
       "         253.25536546, 252.88307347],\n",
       "        [197.78473673, 197.28365711, 208.75823251, ..., 265.29125499,\n",
       "         265.80245148, 253.44718977]],\n",
       "\n",
       "       [[206.93782904, 207.65630838, 202.63029273, ..., 224.40333317,\n",
       "         213.22021903, 199.91929935],\n",
       "        [225.93335446, 230.1753536 , 253.7188359 , ..., 237.05860278,\n",
       "         246.32218544, 247.96304139],\n",
       "        [251.1938069 , 246.17737316, 218.88586439, ..., 215.21616207,\n",
       "         215.4271627 , 219.28781869],\n",
       "        [201.12738399, 201.36832151, 199.69649332, ..., 224.1001984 ,\n",
       "         214.34616805, 215.08796572]],\n",
       "\n",
       "       [[234.245988  , 235.28175277, 235.21553357, ..., 268.57930216,\n",
       "         261.8758008 , 265.75916618],\n",
       "        [312.7528215 , 311.90295931, 316.98289099, ..., 279.16831108,\n",
       "         271.31696468, 279.27134011],\n",
       "        [189.79453165, 190.80392847, 190.73138986, ..., 234.62031459,\n",
       "         231.98208045, 233.2805023 ],\n",
       "        [200.76029585, 200.60098997, 209.73092484, ..., 253.48117878,\n",
       "         241.50686297, 238.15538906]],\n",
       "\n",
       "       ...,\n",
       "\n",
       "       [[236.01979904, 238.74005242, 256.77366936, ..., 201.48320475,\n",
       "         207.6418961 , 209.60382885],\n",
       "        [232.29611757, 234.22687084, 238.88007671, ..., 197.79394466,\n",
       "         202.88085775, 207.00963635],\n",
       "        [283.13008209, 284.15941611, 265.9829423 , ..., 198.83387529,\n",
       "         193.42409236, 194.76878008],\n",
       "        [202.87991418, 202.86790973, 206.67780944, ..., 178.91321094,\n",
       "         183.06107085, 191.25486062]],\n",
       "\n",
       "       [[174.80946225, 175.32054655, 193.61681401, ..., 209.02479975,\n",
       "         204.3241086 , 209.35429733],\n",
       "        [232.67925345, 230.53541653, 202.38452183, ..., 193.09901284,\n",
       "         191.10330034, 179.37793426],\n",
       "        [178.00282313, 180.49368223, 179.73779777, ..., 194.71628111,\n",
       "         195.7778051 , 188.16549721],\n",
       "        [166.24426752, 166.21393784, 175.47092711, ..., 194.67872175,\n",
       "         200.12037   , 204.07395039]],\n",
       "\n",
       "       [[212.0012643 , 212.89953657, 217.02700467, ..., 188.44382833,\n",
       "         195.10601404, 206.97166765],\n",
       "        [210.87138337, 211.13686411, 224.48698731, ..., 206.87030882,\n",
       "         196.48043785, 217.032522  ],\n",
       "        [195.48925706, 194.51654772, 211.17441863, ..., 215.03526055,\n",
       "         199.63209802, 196.94651391],\n",
       "        [229.41695136, 228.97706925, 233.83288136, ..., 213.44537553,\n",
       "         207.52709254, 201.12774469]]])"
      ]
     },
     "execution_count": 48,
     "metadata": {},
     "output_type": "execute_result"
    }
   ],
   "source": [
    "# funções auxiliares\n",
    "def PSD(w):\n",
    "    ''' definição da função PSD para o sinal no domínio da frequência '''\n",
    "    return np.abs(w) ** 2\n",
    "\n",
    "def sgn(x):\n",
    "    print(x)\n",
    "\n",
    "### FUNÇÕES DE EXTRAÇÃO DE CARACTERÍSTICAS\n",
    "\n",
    "# Dominio do Tempo\n",
    "# WAMP, VAR, RMS, WL, ZC\n",
    "def wamp(x):\n",
    "    pass\n",
    "\n",
    "def var(x):\n",
    "    return np.sum(x ** 2, axis=-1) / (np.prod(x.shape) - 1)\n",
    "\n",
    "def rms(x):\n",
    "    return np.sqrt(np.sum(np.abs(x) ** 2, axis=-1) / (np.prod(x.shape) - 1))\n",
    "\n",
    "def wl(x):\n",
    "    pass\n",
    "\n",
    "def zc(x):\n",
    "    for i in x[:,:,:]:\n",
    "        print(i)\n",
    "    # np.sum(sgn(x), axis=-1)\n",
    "    # pass\n",
    "\n",
    "# Dominio da Frequencia\n",
    "# FMD, FMN, MMDF, MMNF, PSD\n",
    "def fmd(w):\n",
    "    return np.sum(PSD(w), axis=-1) / 2\n",
    "\n",
    "sample_rate = 200\n",
    "def fmn(w):\n",
    "    _,_,_,M = w.shape\n",
    "    f_j = (np.arange(1, M+1) * sample_rate )/ (2 * M)  # Frequências correspondentes a cada índice\n",
    "    weighted_sum = np.sum(f_j * PSD(w))\n",
    "    mean_freq = weighted_sum / fmd(w)*2\n",
    "\n",
    "    return mean_freq\n",
    "\n",
    "def mmdf(w):\n",
    "    return np.sum(np.abs(w), axis=-1) / 2\n",
    "\n",
    "def mmnf(w):\n",
    "    _,_,_,M = w.shape\n",
    "    f_j = np.arange(1, M+1) * sample_rate / (2 * M) \n",
    "    weighted_sum = np.sum(f_j * np.abs(w), axis=-1)\n",
    "    mean_freq = weighted_sum / mmdf(w)*2\n",
    "\n",
    "    return mean_freq\n",
    "\n",
    "\n",
    "\n",
    "#fmn(chunks_freq)\n",
    "#mmnf(chunks_freq)\n",
    "\n",
    "\n",
    "\n",
    "#PSD = Pxx ; welch\n",
    "# f, Pxx = welch(data, fs=200, nperseg=64, noverlap=32)\n"
   ]
  },
  {
   "cell_type": "code",
   "execution_count": 30,
   "metadata": {},
   "outputs": [
    {
     "data": {
      "text/plain": [
       "array([[[ 0.,  0.,  0., ..., 17.,  9., 12.],\n",
       "        [ 8., 10.,  6., ...,  4.,  0.,  0.],\n",
       "        [29., 27., 31., ..., 33., 34., 32.],\n",
       "        [ 0.,  0.,  0., ..., 16., 11., 10.]],\n",
       "\n",
       "       [[ 0.,  0.,  0., ...,  0.,  0.,  0.],\n",
       "        [ 4., 10.,  3., ...,  1.,  0.,  9.],\n",
       "        [30., 19., 24., ...,  2.,  4., 10.],\n",
       "        [ 2.,  3.,  2., ...,  8.,  0., 10.]],\n",
       "\n",
       "       [[ 0.,  0.,  0., ...,  4.,  6.,  4.],\n",
       "        [ 0.,  0.,  0., ...,  5., 12.,  0.],\n",
       "        [ 0.,  0.,  0., ..., 15., 14., 18.],\n",
       "        [ 0.,  0.,  0., ...,  6.,  6.,  7.]],\n",
       "\n",
       "       ...,\n",
       "\n",
       "       [[ 0.,  0.,  0., ...,  0.,  0.,  0.],\n",
       "        [ 0.,  0.,  0., ...,  0.,  0.,  2.],\n",
       "        [13., 34., 36., ...,  2., 15.,  2.],\n",
       "        [ 0.,  0.,  0., ...,  0.,  6.,  6.]],\n",
       "\n",
       "       [[ 0.,  0.,  0., ...,  0.,  0.,  0.],\n",
       "        [ 3.,  0., 19., ...,  0.,  0.,  0.],\n",
       "        [17., 15.,  0., ..., 10., 20., 13.],\n",
       "        [ 0.,  0.,  0., ...,  0.,  0.,  0.]],\n",
       "\n",
       "       [[ 0.,  0.,  0., ...,  2.,  0.,  0.],\n",
       "        [ 0.,  0.,  0., ...,  0.,  0.,  0.],\n",
       "        [ 8., 15.,  8., ...,  0.,  0.,  2.],\n",
       "        [ 2., 27., 24., ...,  4.,  4.,  0.]]])"
      ]
     },
     "execution_count": 30,
     "metadata": {},
     "output_type": "execute_result"
    }
   ],
   "source": [
    "\n",
    "def zc(x):\n",
    "    vols, canais, janelas, linhas = x.shape\n",
    "\n",
    "    data = np.empty((vols, canais, janelas))\n",
    "\n",
    "    for v in range(vols):\n",
    "        for c in range(canais):\n",
    "            for j in range(janelas):\n",
    "                data[v][c][j] = len(np.where(np.diff(np.sign(x[v][c][j])))[0])\n",
    "    \n",
    "    return data\n",
    "\n",
    "\n",
    "zc(chunks_time)"
   ]
  },
  {
   "cell_type": "code",
   "execution_count": null,
   "metadata": {},
   "outputs": [],
   "source": [
    "\n",
    "\n"
   ]
  },
  {
   "attachments": {},
   "cell_type": "markdown",
   "metadata": {},
   "source": [
    "### Geração do vetor de características"
   ]
  },
  {
   "cell_type": "code",
   "execution_count": 16,
   "metadata": {},
   "outputs": [
    {
     "data": {
      "text/plain": [
       "(5, 240, 4, 33)"
      ]
     },
     "execution_count": 16,
     "metadata": {},
     "output_type": "execute_result"
    }
   ],
   "source": [
    "final_data = list()\n",
    "\n",
    "#dominio do tempo\n",
    "final_data.append(var(chunks_time))\n",
    "final_data.append(rms(chunks_time))\n",
    "\n",
    "#dominio da freq\n",
    "final_data.append(fmd(chunks_freq))\n",
    "final_data.append(mmdf(chunks_freq))\n",
    "final_data.append(Pxx)\n",
    "\n",
    "final = np.array(final_data)\n",
    "final.shape"
   ]
  }
 ],
 "metadata": {
  "kernelspec": {
   "display_name": "Python 3",
   "language": "python",
   "name": "python3"
  },
  "language_info": {
   "codemirror_mode": {
    "name": "ipython",
    "version": 3
   },
   "file_extension": ".py",
   "mimetype": "text/x-python",
   "name": "python",
   "nbconvert_exporter": "python",
   "pygments_lexer": "ipython3",
   "version": "3.10.6"
  },
  "orig_nbformat": 4
 },
 "nbformat": 4,
 "nbformat_minor": 2
}
