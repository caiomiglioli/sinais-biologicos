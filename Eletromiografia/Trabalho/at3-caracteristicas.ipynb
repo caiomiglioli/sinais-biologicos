{
 "cells": [
  {
   "attachments": {},
   "cell_type": "markdown",
   "metadata": {},
   "source": [
    "# Extração de Características\n",
    "\n",
    "Load"
   ]
  },
  {
   "cell_type": "code",
   "execution_count": 96,
   "metadata": {},
   "outputs": [
    {
     "name": "stdout",
     "output_type": "stream",
     "text": [
      "10, 3, 8, 4, 1600\n",
      "Formato (shape) dos dados depois da divisão de janelas\n",
      "Dominio do tempo: (10, 24, 4, 33, 64) - (voluntario, classes+ensaios, canais, janelas, linhas)\n",
      "Dominio da frequência:  (10, 24, 4, 33, 51) - (voluntario, classes+ensaios, canais, janelas, linhas)\n",
      "Formato (shape) dos dados no domínio da frequência usando o método Welch:\n",
      "Domínio da frequência: (10, 24, 4, 33) - (voluntário, classes+ensaios, canais, janelas)\n",
      "\n",
      "====================== Importados da at2 ======================\n",
      "Data original (10, 24, 4, 1600)\n",
      "Dominio do tempo: (240, 4, 33, 64) - (voluntario*classes*ensaios, canais, janelas, linhas)\n",
      "Dominio da frequência:  (240, 4, 33, 51) - (voluntario*classes*ensaios, canais, janelas, linhas)\n",
      "PSD-Welch (dom. da frequência): (240, 4, 33) - (voluntário*classes*ensaios, canais, janelas)\n"
     ]
    }
   ],
   "source": [
    "# imports\n",
    "import numpy as np\n",
    "# from math import prod\n",
    "\n",
    "%run \"at2-preprocessamento.ipynb\"\n",
    "\n",
    "print(\"\\n====================== Importados da at2 ======================\")\n",
    "\n",
    "data, chunks_time, chunks_freq, Pxx = data, chunks_time, chunks_freq, Pxx #pra desbugar o lint\n",
    "\n",
    "print(f'Data original {data.shape}')\n",
    "\n",
    "voluntarios, classes_ensaios, canais, janelas, linhas = chunks_time.shape\n",
    "chunks_time = chunks_time.reshape(voluntarios * classes_ensaios, canais, janelas, linhas)\n",
    "print(f'Dominio do tempo: {chunks_time.shape} - (voluntario*classes*ensaios, canais, janelas, linhas)')\n",
    "\n",
    "voluntarios, classes_ensaios, canais, janelas, linhas = chunks_freq.shape\n",
    "chunks_freq = chunks_freq.reshape(voluntarios * classes_ensaios, canais, janelas, linhas)\n",
    "print(f'Dominio da frequência:  {chunks_freq.shape} - (voluntario*classes*ensaios, canais, janelas, linhas)')\n",
    "\n",
    "voluntário, classes_ensaios, canais, janelas = Pxx.shape\n",
    "Pxx = Pxx.reshape(voluntarios * classes_ensaios, canais, janelas)\n",
    "print(f'PSD-Welch (dom. da frequência): {Pxx.shape} - (voluntário*classes*ensaios, canais, janelas)')"
   ]
  },
  {
   "attachments": {},
   "cell_type": "markdown",
   "metadata": {},
   "source": [
    "### Funções de Extração de Características"
   ]
  },
  {
   "cell_type": "code",
   "execution_count": 97,
   "metadata": {},
   "outputs": [],
   "source": [
    "# funções auxiliares\n",
    "def PSD(w):\n",
    "    ''' definição da função PSD para o sinal no domínio da frequência '''\n",
    "    return np.abs(w) ** 2\n",
    "\n",
    "##########################################\n",
    "### FUNÇÕES DE EXTRAÇÃO DE CARACTERÍSTICAS\n",
    "\n",
    "# Dominio do Tempo\n",
    "# WAMP, VAR, RMS, WL, ZC\n",
    "def wamp(x, threshold):\n",
    "    return np.sum(np.abs(np.diff(x)) > threshold, axis=-1)\n",
    "\n",
    "def var(x):\n",
    "    return np.sum(x ** 2, axis=-1) / (np.prod(x.shape) - 1)\n",
    "\n",
    "def rms(x):\n",
    "    return np.sqrt(np.sum(np.abs(x) ** 2, axis=-1) / (np.prod(x.shape) - 1))\n",
    "\n",
    "def wl(x):\n",
    "    return np.abs(np.diff(x, axis=-1)).sum(axis=-1)\n",
    "\n",
    "def zc(x):\n",
    "    return np.sum(np.diff(np.sign(x), axis=-1) != 0, axis=-1)\n",
    "\n",
    "# Dominio da Frequencia\n",
    "# FMD, FMN, MMDF, MMNF, PSD\n",
    "def fmd(w):\n",
    "    return np.sum(PSD(w), axis=-1) / 2\n",
    "\n",
    "def fmn(w):\n",
    "    # sample_rate = 200\n",
    "    _,_,_,M = w.shape\n",
    "    f_j = (np.arange(1, M+1) * 200 )/ (2 * M)  # Frequências correspondentes a cada índice\n",
    "    weighted_sum = np.sum(f_j * PSD(w))\n",
    "    mean_freq = weighted_sum / fmd(w)*2\n",
    "    return mean_freq\n",
    "\n",
    "def mmdf(w):\n",
    "    return np.sum(np.abs(w), axis=-1) / 2\n",
    "\n",
    "def mmnf(w):\n",
    "    # sample_rate = 200\n",
    "    _,_,_,M = w.shape\n",
    "    f_j = np.arange(1, M+1) * 200 / (2 * M) \n",
    "    weighted_sum = np.sum(f_j * np.abs(w), axis=-1)\n",
    "    mean_freq = weighted_sum / mmdf(w)*2\n",
    "    return mean_freq\n",
    "\n",
    "#PSD = Pxx ; welch\n",
    "# f, Pxx = welch(data, fs=200, nperseg=64, noverlap=32)\n"
   ]
  },
  {
   "attachments": {},
   "cell_type": "markdown",
   "metadata": {},
   "source": [
    "### Geração do vetor de características"
   ]
  },
  {
   "cell_type": "code",
   "execution_count": 98,
   "metadata": {},
   "outputs": [
    {
     "data": {
      "text/plain": [
       "(10, 240, 4, 33)"
      ]
     },
     "execution_count": 98,
     "metadata": {},
     "output_type": "execute_result"
    }
   ],
   "source": [
    "final_data = list()\n",
    "\n",
    "#dominio do tempo\n",
    "final_data.append(wamp(chunks_time, 5))\n",
    "final_data.append(var(chunks_time))\n",
    "final_data.append(rms(chunks_time))\n",
    "final_data.append(wl(chunks_time))\n",
    "final_data.append(zc(chunks_time))\n",
    "\n",
    "#dominio da freq\n",
    "final_data.append(fmd(chunks_freq))\n",
    "final_data.append(fmn(chunks_freq))\n",
    "final_data.append(mmdf(chunks_freq))\n",
    "final_data.append(mmnf(chunks_freq))\n",
    "final_data.append(Pxx)\n",
    "\n",
    "final = np.array(final_data)\n",
    "final.shape"
   ]
  }
 ],
 "metadata": {
  "kernelspec": {
   "display_name": "Python 3",
   "language": "python",
   "name": "python3"
  },
  "language_info": {
   "codemirror_mode": {
    "name": "ipython",
    "version": 3
   },
   "file_extension": ".py",
   "mimetype": "text/x-python",
   "name": "python",
   "nbconvert_exporter": "python",
   "pygments_lexer": "ipython3",
   "version": "3.10.6"
  },
  "orig_nbformat": 4
 },
 "nbformat": 4,
 "nbformat_minor": 2
}
