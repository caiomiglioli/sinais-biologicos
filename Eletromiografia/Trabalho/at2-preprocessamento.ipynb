{
 "cells": [
  {
   "attachments": {},
   "cell_type": "markdown",
   "metadata": {},
   "source": [
    "# Preprocessamento\n",
    "\n",
    "Load"
   ]
  },
  {
   "cell_type": "code",
   "execution_count": 14,
   "metadata": {},
   "outputs": [
    {
     "name": "stdout",
     "output_type": "stream",
     "text": [
      "10, 3, 8, 4, 1600\n"
     ]
    }
   ],
   "source": [
    "# imports\n",
    "import numpy as np\n",
    "# import matplotlib.pyplot as plt\n",
    "# from matplotlib import rcParams, cm\n",
    "from scipy import signal\n",
    "from scipy.signal import stft\n",
    "from scipy.signal import welch\n",
    "\n",
    "# filters\n",
    "def butter_bandpass(data, lowcut, highcut, fs=200, order=4):\n",
    "    nyq = fs * 0.5\n",
    "    low = lowcut / nyq\n",
    "    high = highcut / nyq\n",
    "    b, a = signal.butter(order, [low, high], btype='bandpass')\n",
    "    return signal.filtfilt(b, a, data)\n",
    "\n",
    "# Load dataset\n",
    "data = np.load('datasets/topicos_cc.npy')\n",
    "voluntarios, trials, classes, eletrodos, valores = data.shape\n",
    "\n",
    "print(f'{voluntarios}, {trials}, {classes}, {eletrodos}, {valores}')"
   ]
  },
  {
   "attachments": {},
   "cell_type": "markdown",
   "metadata": {},
   "source": [
    "\n",
    "\n",
    "**STFT:** O objetivo é definir um step que alcance um resultado de janelas semelhantes entre o domínio do tempo e o domínio da frequência.\n",
    "\n",
    "**PSD:** Obter os dados no domínio da frequência pelo método Welch, casando também o tamanho da dimensionalidade até o número de janelas."
   ]
  },
  {
   "cell_type": "code",
   "execution_count": 15,
   "metadata": {},
   "outputs": [
    {
     "name": "stdout",
     "output_type": "stream",
     "text": [
      "Formato (shape) dos dados depois da divisão de janelas\n",
      "Dominio do tempo: (10, 24, 4, 33, 64) - (voluntario, classes+ensaios, canais, janelas, linhas)\n",
      "Dominio da frequência:  (10, 24, 4, 33, 51) - (voluntario, classes+ensaios, canais, janelas, linhas)\n"
     ]
    }
   ],
   "source": [
    "step = 47\n",
    "segment = 64\n",
    "\n",
    "data = data.reshape(voluntarios, trials * classes, eletrodos, valores)\n",
    "\n",
    "n_win = int((data.shape[-1] - segment) / step) + 1 # 33\n",
    "ids = np.arange(n_win) * step\n",
    "\n",
    "# Janelas do dado no dominio do tempo\n",
    "chunks_time = np.array([data[:, :, :, k:(k + segment)] for k in ids]).transpose(1, 2, 3, 0, 4)\n",
    "\n",
    "# Janelas do dado no domínio da frequência\n",
    "_, _, chunks_freq = stft(data, fs=200, nperseg=64, noverlap=32)\n",
    "# chunks_freq = np.swapaxes(chunks_freq, 2, 3)\n",
    "\n",
    "print('Formato (shape) dos dados depois da divisão de janelas')\n",
    "print(f'Dominio do tempo: {chunks_time.shape} - (voluntario, classes+ensaios, canais, janelas, linhas)')\n",
    "print(f'Dominio da frequência:  {chunks_freq.shape} - (voluntario, classes+ensaios, canais, janelas, linhas)')"
   ]
  },
  {
   "cell_type": "code",
   "execution_count": 16,
   "metadata": {},
   "outputs": [
    {
     "name": "stdout",
     "output_type": "stream",
     "text": [
      "Formato (shape) dos dados no domínio da frequência usando o método Welch:\n",
      "Domínio da frequência: (10, 24, 4, 33) - (voluntário, classes+ensaios, canais, janelas)\n"
     ]
    }
   ],
   "source": [
    "# PSD Welch \n",
    "f, Pxx = welch(data, fs=200, nperseg=64, noverlap=32)\n",
    "\n",
    "print('Formato (shape) dos dados no domínio da frequência usando o método Welch:')           \n",
    "print(f'Domínio da frequência: {Pxx.shape} - (voluntário, classes+ensaios, canais, janelas)')"
   ]
  }
 ],
 "metadata": {
  "kernelspec": {
   "display_name": "Python 3",
   "language": "python",
   "name": "python3"
  },
  "language_info": {
   "codemirror_mode": {
    "name": "ipython",
    "version": 3
   },
   "file_extension": ".py",
   "mimetype": "text/x-python",
   "name": "python",
   "nbconvert_exporter": "python",
   "pygments_lexer": "ipython3",
   "version": "3.10.6"
  },
  "orig_nbformat": 4
 },
 "nbformat": 4,
 "nbformat_minor": 2
}
